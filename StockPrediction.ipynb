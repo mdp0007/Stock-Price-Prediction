{
  "nbformat": 4,
  "nbformat_minor": 0,
  "metadata": {
    "colab": {
      "name": "StockPrediction.ipynb",
      "provenance": [],
      "collapsed_sections": [],
      "authorship_tag": "ABX9TyP/Ku9hdIUT+2QECkaRQTKD",
      "include_colab_link": true
    },
    "kernelspec": {
      "name": "python3",
      "display_name": "Python 3"
    }
  },
  "cells": [
    {
      "cell_type": "markdown",
      "metadata": {
        "id": "view-in-github",
        "colab_type": "text"
      },
      "source": [
        "<a href=\"https://colab.research.google.com/github/Shubham-1230/Stock-Price-Prediction/blob/master/StockPrediction.ipynb\" target=\"_parent\"><img src=\"https://colab.research.google.com/assets/colab-badge.svg\" alt=\"Open In Colab\"/></a>"
      ]
    },
    {
      "cell_type": "code",
      "metadata": {
        "id": "oE2NSvwMBgOZ",
        "colab_type": "code",
        "colab": {
          "base_uri": "https://localhost:8080/",
          "height": 289
        },
        "outputId": "39be6ac7-ae5f-4871-c296-c11c40b9c13b"
      },
      "source": [
        "import math\n",
        "import numpy as np\n",
        "from sklearn.preprocessing import MinMaxScaler\n",
        "from keras.models import Sequential\n",
        "from keras.layers import Dense, LSTM\n",
        "import pandas as pd\n",
        "import pandas_datareader.data as web\n",
        "from matplotlib import style\n",
        "import matplotlib.pyplot as plt\n",
        "!pip install https://github.com/matplotlib/mpl_finance/archive/master.zip\n",
        "from mpl_finance import candlestick_ohlc\n",
        "import matplotlib.dates as mdates\n",
        "import datetime as dt\n",
        "plt.style.use('fivethirtyeight')"
      ],
      "execution_count": 121,
      "outputs": [
        {
          "output_type": "stream",
          "text": [
            "Collecting https://github.com/matplotlib/mpl_finance/archive/master.zip\n",
            "  Using cached https://github.com/matplotlib/mpl_finance/archive/master.zip\n",
            "Requirement already satisfied (use --upgrade to upgrade): mpl-finance==0.10.1 from https://github.com/matplotlib/mpl_finance/archive/master.zip in /usr/local/lib/python3.6/dist-packages\n",
            "Requirement already satisfied: matplotlib in /usr/local/lib/python3.6/dist-packages (from mpl-finance==0.10.1) (3.2.1)\n",
            "Requirement already satisfied: cycler>=0.10 in /usr/local/lib/python3.6/dist-packages (from matplotlib->mpl-finance==0.10.1) (0.10.0)\n",
            "Requirement already satisfied: python-dateutil>=2.1 in /usr/local/lib/python3.6/dist-packages (from matplotlib->mpl-finance==0.10.1) (2.8.1)\n",
            "Requirement already satisfied: numpy>=1.11 in /usr/local/lib/python3.6/dist-packages (from matplotlib->mpl-finance==0.10.1) (1.18.3)\n",
            "Requirement already satisfied: kiwisolver>=1.0.1 in /usr/local/lib/python3.6/dist-packages (from matplotlib->mpl-finance==0.10.1) (1.2.0)\n",
            "Requirement already satisfied: pyparsing!=2.0.4,!=2.1.2,!=2.1.6,>=2.0.1 in /usr/local/lib/python3.6/dist-packages (from matplotlib->mpl-finance==0.10.1) (2.4.7)\n",
            "Requirement already satisfied: six in /usr/local/lib/python3.6/dist-packages (from cycler>=0.10->matplotlib->mpl-finance==0.10.1) (1.12.0)\n",
            "Building wheels for collected packages: mpl-finance\n",
            "  Building wheel for mpl-finance (setup.py) ... \u001b[?25l\u001b[?25hdone\n",
            "  Created wheel for mpl-finance: filename=mpl_finance-0.10.1-cp36-none-any.whl size=8423 sha256=389054f3da7d18d36f803a69990eace75e3bf0f0318f5df9fda3ceebc9345fc4\n",
            "  Stored in directory: /tmp/pip-ephem-wheel-cache-oyjvyi4h/wheels/8f/bf/8a/6c858b2a3be945c7b2d658fbf6ab797b451d686cbee8aa2679\n",
            "Successfully built mpl-finance\n"
          ],
          "name": "stdout"
        }
      ]
    },
    {
      "cell_type": "code",
      "metadata": {
        "id": "WqW6BjngWZWF",
        "colab_type": "code",
        "colab": {
          "base_uri": "https://localhost:8080/",
          "height": 225
        },
        "outputId": "6c767ff8-976c-4acd-eb7c-40edfe9ba497"
      },
      "source": [
        "style.use('ggplot')\n",
        "\n",
        "start = dt.datetime(1996,1,1)\n",
        "end = dt.datetime(2020,5,8)\n",
        "\n",
        "df = web.DataReader('TATAMOTORS.NS', 'yahoo', start, end)\n",
        "df.head()"
      ],
      "execution_count": 122,
      "outputs": [
        {
          "output_type": "execute_result",
          "data": {
            "text/html": [
              "<div>\n",
              "<style scoped>\n",
              "    .dataframe tbody tr th:only-of-type {\n",
              "        vertical-align: middle;\n",
              "    }\n",
              "\n",
              "    .dataframe tbody tr th {\n",
              "        vertical-align: top;\n",
              "    }\n",
              "\n",
              "    .dataframe thead th {\n",
              "        text-align: right;\n",
              "    }\n",
              "</style>\n",
              "<table border=\"1\" class=\"dataframe\">\n",
              "  <thead>\n",
              "    <tr style=\"text-align: right;\">\n",
              "      <th></th>\n",
              "      <th>High</th>\n",
              "      <th>Low</th>\n",
              "      <th>Open</th>\n",
              "      <th>Close</th>\n",
              "      <th>Volume</th>\n",
              "      <th>Adj Close</th>\n",
              "    </tr>\n",
              "    <tr>\n",
              "      <th>Date</th>\n",
              "      <th></th>\n",
              "      <th></th>\n",
              "      <th></th>\n",
              "      <th></th>\n",
              "      <th></th>\n",
              "      <th></th>\n",
              "    </tr>\n",
              "  </thead>\n",
              "  <tbody>\n",
              "    <tr>\n",
              "      <th>1996-01-01</th>\n",
              "      <td>72.819603</td>\n",
              "      <td>72.340599</td>\n",
              "      <td>72.436401</td>\n",
              "      <td>72.819603</td>\n",
              "      <td>40703.0</td>\n",
              "      <td>15.483592</td>\n",
              "    </tr>\n",
              "    <tr>\n",
              "      <th>1996-01-02</th>\n",
              "      <td>73.567001</td>\n",
              "      <td>72.053101</td>\n",
              "      <td>72.819603</td>\n",
              "      <td>72.398003</td>\n",
              "      <td>100976.0</td>\n",
              "      <td>15.393948</td>\n",
              "    </tr>\n",
              "    <tr>\n",
              "      <th>1996-01-03</th>\n",
              "      <td>72.819603</td>\n",
              "      <td>72.100998</td>\n",
              "      <td>72.398003</td>\n",
              "      <td>72.158501</td>\n",
              "      <td>29745.0</td>\n",
              "      <td>15.343023</td>\n",
              "    </tr>\n",
              "    <tr>\n",
              "      <th>1996-01-04</th>\n",
              "      <td>72.244698</td>\n",
              "      <td>71.190804</td>\n",
              "      <td>72.158501</td>\n",
              "      <td>71.612396</td>\n",
              "      <td>104889.0</td>\n",
              "      <td>15.226908</td>\n",
              "    </tr>\n",
              "    <tr>\n",
              "      <th>1996-01-05</th>\n",
              "      <td>71.823196</td>\n",
              "      <td>71.094902</td>\n",
              "      <td>71.612396</td>\n",
              "      <td>71.353699</td>\n",
              "      <td>62620.0</td>\n",
              "      <td>15.171898</td>\n",
              "    </tr>\n",
              "  </tbody>\n",
              "</table>\n",
              "</div>"
            ],
            "text/plain": [
              "                 High        Low       Open      Close    Volume  Adj Close\n",
              "Date                                                                       \n",
              "1996-01-01  72.819603  72.340599  72.436401  72.819603   40703.0  15.483592\n",
              "1996-01-02  73.567001  72.053101  72.819603  72.398003  100976.0  15.393948\n",
              "1996-01-03  72.819603  72.100998  72.398003  72.158501   29745.0  15.343023\n",
              "1996-01-04  72.244698  71.190804  72.158501  71.612396  104889.0  15.226908\n",
              "1996-01-05  71.823196  71.094902  71.612396  71.353699   62620.0  15.171898"
            ]
          },
          "metadata": {
            "tags": []
          },
          "execution_count": 122
        }
      ]
    },
    {
      "cell_type": "code",
      "metadata": {
        "id": "v9DbfFU4W8pP",
        "colab_type": "code",
        "colab": {}
      },
      "source": [
        "df.to_csv('TataMotors.csv')"
      ],
      "execution_count": 0,
      "outputs": []
    },
    {
      "cell_type": "code",
      "metadata": {
        "id": "_N-XY98AiHyF",
        "colab_type": "code",
        "colab": {
          "base_uri": "https://localhost:8080/",
          "height": 225
        },
        "outputId": "77d27bed-fba1-4266-9bf4-658621ab702d"
      },
      "source": [
        "df = pd.read_csv('TataMotors.csv', parse_dates=True, index_col=0)\n",
        "df.head()"
      ],
      "execution_count": 124,
      "outputs": [
        {
          "output_type": "execute_result",
          "data": {
            "text/html": [
              "<div>\n",
              "<style scoped>\n",
              "    .dataframe tbody tr th:only-of-type {\n",
              "        vertical-align: middle;\n",
              "    }\n",
              "\n",
              "    .dataframe tbody tr th {\n",
              "        vertical-align: top;\n",
              "    }\n",
              "\n",
              "    .dataframe thead th {\n",
              "        text-align: right;\n",
              "    }\n",
              "</style>\n",
              "<table border=\"1\" class=\"dataframe\">\n",
              "  <thead>\n",
              "    <tr style=\"text-align: right;\">\n",
              "      <th></th>\n",
              "      <th>High</th>\n",
              "      <th>Low</th>\n",
              "      <th>Open</th>\n",
              "      <th>Close</th>\n",
              "      <th>Volume</th>\n",
              "      <th>Adj Close</th>\n",
              "    </tr>\n",
              "    <tr>\n",
              "      <th>Date</th>\n",
              "      <th></th>\n",
              "      <th></th>\n",
              "      <th></th>\n",
              "      <th></th>\n",
              "      <th></th>\n",
              "      <th></th>\n",
              "    </tr>\n",
              "  </thead>\n",
              "  <tbody>\n",
              "    <tr>\n",
              "      <th>1996-01-01</th>\n",
              "      <td>72.819603</td>\n",
              "      <td>72.340599</td>\n",
              "      <td>72.436401</td>\n",
              "      <td>72.819603</td>\n",
              "      <td>40703.0</td>\n",
              "      <td>15.483592</td>\n",
              "    </tr>\n",
              "    <tr>\n",
              "      <th>1996-01-02</th>\n",
              "      <td>73.567001</td>\n",
              "      <td>72.053101</td>\n",
              "      <td>72.819603</td>\n",
              "      <td>72.398003</td>\n",
              "      <td>100976.0</td>\n",
              "      <td>15.393948</td>\n",
              "    </tr>\n",
              "    <tr>\n",
              "      <th>1996-01-03</th>\n",
              "      <td>72.819603</td>\n",
              "      <td>72.100998</td>\n",
              "      <td>72.398003</td>\n",
              "      <td>72.158501</td>\n",
              "      <td>29745.0</td>\n",
              "      <td>15.343023</td>\n",
              "    </tr>\n",
              "    <tr>\n",
              "      <th>1996-01-04</th>\n",
              "      <td>72.244698</td>\n",
              "      <td>71.190804</td>\n",
              "      <td>72.158501</td>\n",
              "      <td>71.612396</td>\n",
              "      <td>104889.0</td>\n",
              "      <td>15.226908</td>\n",
              "    </tr>\n",
              "    <tr>\n",
              "      <th>1996-01-05</th>\n",
              "      <td>71.823196</td>\n",
              "      <td>71.094902</td>\n",
              "      <td>71.612396</td>\n",
              "      <td>71.353699</td>\n",
              "      <td>62620.0</td>\n",
              "      <td>15.171898</td>\n",
              "    </tr>\n",
              "  </tbody>\n",
              "</table>\n",
              "</div>"
            ],
            "text/plain": [
              "                 High        Low       Open      Close    Volume  Adj Close\n",
              "Date                                                                       \n",
              "1996-01-01  72.819603  72.340599  72.436401  72.819603   40703.0  15.483592\n",
              "1996-01-02  73.567001  72.053101  72.819603  72.398003  100976.0  15.393948\n",
              "1996-01-03  72.819603  72.100998  72.398003  72.158501   29745.0  15.343023\n",
              "1996-01-04  72.244698  71.190804  72.158501  71.612396  104889.0  15.226908\n",
              "1996-01-05  71.823196  71.094902  71.612396  71.353699   62620.0  15.171898"
            ]
          },
          "metadata": {
            "tags": []
          },
          "execution_count": 124
        }
      ]
    },
    {
      "cell_type": "code",
      "metadata": {
        "id": "LTrtb-9UkJMU",
        "colab_type": "code",
        "colab": {
          "base_uri": "https://localhost:8080/",
          "height": 314
        },
        "outputId": "6699beb0-7902-4315-e3aa-09cd5068b253"
      },
      "source": [
        "plt.figure(figsize=(20,10))\n",
        "df.plot()"
      ],
      "execution_count": 125,
      "outputs": [
        {
          "output_type": "execute_result",
          "data": {
            "text/plain": [
              "<matplotlib.axes._subplots.AxesSubplot at 0x7f98590562b0>"
            ]
          },
          "metadata": {
            "tags": []
          },
          "execution_count": 125
        },
        {
          "output_type": "display_data",
          "data": {
            "text/plain": [
              "<Figure size 1440x720 with 0 Axes>"
            ]
          },
          "metadata": {
            "tags": []
          }
        },
        {
          "output_type": "display_data",
          "data": {
            "image/png": "[encoded data removed]",
            "text/plain": [
              "<Figure size 432x288 with 1 Axes>"
            ]
          },
          "metadata": {
            "tags": []
          }
        }
      ]
    },
    {
      "cell_type": "code",
      "metadata": {
        "id": "em_F7P3BlTW9",
        "colab_type": "code",
        "colab": {
          "base_uri": "https://localhost:8080/",
          "height": 225
        },
        "outputId": "8c93ece4-2141-4da9-e565-e1b7ab120355"
      },
      "source": [
        "df['200EMA'] = df['Adj Close'].ewm(span=200).mean()\n",
        "df['50EMA'] = df['Adj Close'].ewm(span=50).mean()\n",
        "df.tail()"
      ],
      "execution_count": 126,
      "outputs": [
        {
          "output_type": "execute_result",
          "data": {
            "text/html": [
              "<div>\n",
              "<style scoped>\n",
              "    .dataframe tbody tr th:only-of-type {\n",
              "        vertical-align: middle;\n",
              "    }\n",
              "\n",
              "    .dataframe tbody tr th {\n",
              "        vertical-align: top;\n",
              "    }\n",
              "\n",
              "    .dataframe thead th {\n",
              "        text-align: right;\n",
              "    }\n",
              "</style>\n",
              "<table border=\"1\" class=\"dataframe\">\n",
              "  <thead>\n",
              "    <tr style=\"text-align: right;\">\n",
              "      <th></th>\n",
              "      <th>High</th>\n",
              "      <th>Low</th>\n",
              "      <th>Open</th>\n",
              "      <th>Close</th>\n",
              "      <th>Volume</th>\n",
              "      <th>Adj Close</th>\n",
              "      <th>200EMA</th>\n",
              "      <th>50EMA</th>\n",
              "    </tr>\n",
              "    <tr>\n",
              "      <th>Date</th>\n",
              "      <th></th>\n",
              "      <th></th>\n",
              "      <th></th>\n",
              "      <th></th>\n",
              "      <th></th>\n",
              "      <th></th>\n",
              "      <th></th>\n",
              "      <th></th>\n",
              "    </tr>\n",
              "  </thead>\n",
              "  <tbody>\n",
              "    <tr>\n",
              "      <th>2020-05-04</th>\n",
              "      <td>87.199997</td>\n",
              "      <td>81.500000</td>\n",
              "      <td>87.000000</td>\n",
              "      <td>83.900002</td>\n",
              "      <td>91159477.0</td>\n",
              "      <td>83.900002</td>\n",
              "      <td>140.270270</td>\n",
              "      <td>97.180529</td>\n",
              "    </tr>\n",
              "    <tr>\n",
              "      <th>2020-05-05</th>\n",
              "      <td>86.800003</td>\n",
              "      <td>80.400002</td>\n",
              "      <td>86.000000</td>\n",
              "      <td>80.900002</td>\n",
              "      <td>57122148.0</td>\n",
              "      <td>80.900002</td>\n",
              "      <td>139.679522</td>\n",
              "      <td>96.542077</td>\n",
              "    </tr>\n",
              "    <tr>\n",
              "      <th>2020-05-06</th>\n",
              "      <td>83.949997</td>\n",
              "      <td>80.349998</td>\n",
              "      <td>81.550003</td>\n",
              "      <td>83.199997</td>\n",
              "      <td>53739248.0</td>\n",
              "      <td>83.199997</td>\n",
              "      <td>139.117536</td>\n",
              "      <td>96.018859</td>\n",
              "    </tr>\n",
              "    <tr>\n",
              "      <th>2020-05-07</th>\n",
              "      <td>84.650002</td>\n",
              "      <td>82.099998</td>\n",
              "      <td>82.900002</td>\n",
              "      <td>82.500000</td>\n",
              "      <td>31159970.0</td>\n",
              "      <td>82.500000</td>\n",
              "      <td>138.554178</td>\n",
              "      <td>95.488707</td>\n",
              "    </tr>\n",
              "    <tr>\n",
              "      <th>2020-05-08</th>\n",
              "      <td>84.949997</td>\n",
              "      <td>80.550003</td>\n",
              "      <td>84.500000</td>\n",
              "      <td>81.050003</td>\n",
              "      <td>35345756.0</td>\n",
              "      <td>81.050003</td>\n",
              "      <td>137.981997</td>\n",
              "      <td>94.922484</td>\n",
              "    </tr>\n",
              "  </tbody>\n",
              "</table>\n",
              "</div>"
            ],
            "text/plain": [
              "                 High        Low       Open  ...  Adj Close      200EMA      50EMA\n",
              "Date                                         ...                                  \n",
              "2020-05-04  87.199997  81.500000  87.000000  ...  83.900002  140.270270  97.180529\n",
              "2020-05-05  86.800003  80.400002  86.000000  ...  80.900002  139.679522  96.542077\n",
              "2020-05-06  83.949997  80.349998  81.550003  ...  83.199997  139.117536  96.018859\n",
              "2020-05-07  84.650002  82.099998  82.900002  ...  82.500000  138.554178  95.488707\n",
              "2020-05-08  84.949997  80.550003  84.500000  ...  81.050003  137.981997  94.922484\n",
              "\n",
              "[5 rows x 8 columns]"
            ]
          },
          "metadata": {
            "tags": []
          },
          "execution_count": 126
        }
      ]
    },
    {
      "cell_type": "code",
      "metadata": {
        "id": "5l1cyWIH48sj",
        "colab_type": "code",
        "colab": {
          "base_uri": "https://localhost:8080/",
          "height": 134
        },
        "outputId": "7387fa7f-5ee1-48b2-f291-498589ce0dd0"
      },
      "source": [
        "df_ohlc = df[['Open', 'Close', 'High', 'Low']]\n",
        "df_ohlc.index = df_ohlc.index.map(mdates.date2num)\n",
        "df_volume = df['Volume']\n",
        "df_ohlc.tail()\n",
        "df_volume.head()"
      ],
      "execution_count": 135,
      "outputs": [
        {
          "output_type": "execute_result",
          "data": {
            "text/plain": [
              "Date\n",
              "1996-01-01     40703.0\n",
              "1996-01-02    100976.0\n",
              "1996-01-03     29745.0\n",
              "1996-01-04    104889.0\n",
              "1996-01-05     62620.0\n",
              "Name: Volume, dtype: float64"
            ]
          },
          "metadata": {
            "tags": []
          },
          "execution_count": 135
        }
      ]
    },
    {
      "cell_type": "code",
      "metadata": {
        "id": "L5e640tZnptM",
        "colab_type": "code",
        "colab": {
          "base_uri": "https://localhost:8080/",
          "height": 746
        },
        "outputId": "c50965b6-3f10-4c5b-f2f3-d7c04458355e"
      },
      "source": [
        "# plt.figure(figsize=(20,15))\n",
        "\n",
        "ax1 = plt.subplot2grid((6,1), (0,0), rowspan=5, colspan=1)\n",
        "ax2 = plt.subplot2grid((6,1), (5,0), rowspan=1, colspan=1, sharex=ax1)\n",
        "ax1.xaxis_date()\n",
        "\n",
        "candlestick_ohlc(ax1, df_ohlc.values, width=2, colorup='g')\n",
        "ax2.fill_between(df_volume.index.map(mdates.date2num), df_volume.values, 0)\n",
        "plt.show()"
      ],
      "execution_count": 134,
      "outputs": [
        {
          "output_type": "error",
          "ename": "ValueError",
          "evalue": "ignored",
          "traceback": [
            "\u001b[0;31m---------------------------------------------------------------------------\u001b[0m",
            "\u001b[0;31mValueError\u001b[0m                                Traceback (most recent call last)",
            "\u001b[0;32m<ipython-input-134-425447be7a85>\u001b[0m in \u001b[0;36m<module>\u001b[0;34m()\u001b[0m\n\u001b[1;32m      4\u001b[0m \u001b[0max1\u001b[0m\u001b[0;34m.\u001b[0m\u001b[0mxaxis_date\u001b[0m\u001b[0;34m(\u001b[0m\u001b[0;34m)\u001b[0m\u001b[0;34m\u001b[0m\u001b[0;34m\u001b[0m\u001b[0m\n\u001b[1;32m      5\u001b[0m \u001b[0;34m\u001b[0m\u001b[0m\n\u001b[0;32m----> 6\u001b[0;31m \u001b[0mcandlestick_ohlc\u001b[0m\u001b[0;34m(\u001b[0m\u001b[0max1\u001b[0m\u001b[0;34m,\u001b[0m \u001b[0mdf_ohlc\u001b[0m\u001b[0;34m.\u001b[0m\u001b[0mvalues\u001b[0m\u001b[0;34m,\u001b[0m \u001b[0mwidth\u001b[0m\u001b[0;34m=\u001b[0m\u001b[0;36m2\u001b[0m\u001b[0;34m,\u001b[0m \u001b[0mcolorup\u001b[0m\u001b[0;34m=\u001b[0m\u001b[0;34m'g'\u001b[0m\u001b[0;34m)\u001b[0m\u001b[0;34m\u001b[0m\u001b[0;34m\u001b[0m\u001b[0m\n\u001b[0m\u001b[1;32m      7\u001b[0m \u001b[0max2\u001b[0m\u001b[0;34m.\u001b[0m\u001b[0mfill_between\u001b[0m\u001b[0;34m(\u001b[0m\u001b[0mdf_volume\u001b[0m\u001b[0;34m.\u001b[0m\u001b[0mindex\u001b[0m\u001b[0;34m.\u001b[0m\u001b[0mmap\u001b[0m\u001b[0;34m(\u001b[0m\u001b[0mmdates\u001b[0m\u001b[0;34m.\u001b[0m\u001b[0mdate2num\u001b[0m\u001b[0;34m)\u001b[0m\u001b[0;34m,\u001b[0m \u001b[0mdf_volume\u001b[0m\u001b[0;34m.\u001b[0m\u001b[0mvalues\u001b[0m\u001b[0;34m,\u001b[0m \u001b[0;36m0\u001b[0m\u001b[0;34m)\u001b[0m\u001b[0;34m\u001b[0m\u001b[0;34m\u001b[0m\u001b[0m\n\u001b[1;32m      8\u001b[0m \u001b[0mplt\u001b[0m\u001b[0;34m.\u001b[0m\u001b[0mshow\u001b[0m\u001b[0;34m(\u001b[0m\u001b[0;34m)\u001b[0m\u001b[0;34m\u001b[0m\u001b[0;34m\u001b[0m\u001b[0m\n",
            "\u001b[0;32m/usr/local/lib/python3.6/dist-packages/mpl_finance.py\u001b[0m in \u001b[0;36mcandlestick_ohlc\u001b[0;34m(ax, quotes, width, colorup, colordown, alpha)\u001b[0m\n\u001b[1;32m    249\u001b[0m     return _candlestick(ax, quotes, width=width, colorup=colorup,\n\u001b[1;32m    250\u001b[0m                         \u001b[0mcolordown\u001b[0m\u001b[0;34m=\u001b[0m\u001b[0mcolordown\u001b[0m\u001b[0;34m,\u001b[0m\u001b[0;34m\u001b[0m\u001b[0;34m\u001b[0m\u001b[0m\n\u001b[0;32m--> 251\u001b[0;31m                         alpha=alpha, ochl=False)\n\u001b[0m\u001b[1;32m    252\u001b[0m \u001b[0;34m\u001b[0m\u001b[0m\n\u001b[1;32m    253\u001b[0m \u001b[0;34m\u001b[0m\u001b[0m\n",
            "\u001b[0;32m/usr/local/lib/python3.6/dist-packages/mpl_finance.py\u001b[0m in \u001b[0;36m_candlestick\u001b[0;34m(ax, quotes, width, colorup, colordown, alpha, ochl)\u001b[0m\n\u001b[1;32m    296\u001b[0m             \u001b[0mt\u001b[0m\u001b[0;34m,\u001b[0m \u001b[0mopen\u001b[0m\u001b[0;34m,\u001b[0m \u001b[0mclose\u001b[0m\u001b[0;34m,\u001b[0m \u001b[0mhigh\u001b[0m\u001b[0;34m,\u001b[0m \u001b[0mlow\u001b[0m \u001b[0;34m=\u001b[0m \u001b[0mq\u001b[0m\u001b[0;34m[\u001b[0m\u001b[0;34m:\u001b[0m\u001b[0;36m5\u001b[0m\u001b[0;34m]\u001b[0m\u001b[0;34m\u001b[0m\u001b[0;34m\u001b[0m\u001b[0m\n\u001b[1;32m    297\u001b[0m         \u001b[0;32melse\u001b[0m\u001b[0;34m:\u001b[0m\u001b[0;34m\u001b[0m\u001b[0;34m\u001b[0m\u001b[0m\n\u001b[0;32m--> 298\u001b[0;31m             \u001b[0mt\u001b[0m\u001b[0;34m,\u001b[0m \u001b[0mopen\u001b[0m\u001b[0;34m,\u001b[0m \u001b[0mhigh\u001b[0m\u001b[0;34m,\u001b[0m \u001b[0mlow\u001b[0m\u001b[0;34m,\u001b[0m \u001b[0mclose\u001b[0m \u001b[0;34m=\u001b[0m \u001b[0mq\u001b[0m\u001b[0;34m[\u001b[0m\u001b[0;34m:\u001b[0m\u001b[0;36m5\u001b[0m\u001b[0;34m]\u001b[0m\u001b[0;34m\u001b[0m\u001b[0;34m\u001b[0m\u001b[0m\n\u001b[0m\u001b[1;32m    299\u001b[0m \u001b[0;34m\u001b[0m\u001b[0m\n\u001b[1;32m    300\u001b[0m         \u001b[0;32mif\u001b[0m \u001b[0mclose\u001b[0m \u001b[0;34m>=\u001b[0m \u001b[0mopen\u001b[0m\u001b[0;34m:\u001b[0m\u001b[0;34m\u001b[0m\u001b[0;34m\u001b[0m\u001b[0m\n",
            "\u001b[0;31mValueError\u001b[0m: not enough values to unpack (expected 5, got 4)"
          ]
        },
        {
          "output_type": "display_data",
          "data": {
            "image/png": "[encoded data removed]",
            "text/plain": [
              "<Figure size 432x288 with 2 Axes>"
            ]
          },
          "metadata": {
            "tags": []
          }
        }
      ]
    },
    {
      "cell_type": "code",
      "metadata": {
        "id": "R7EFyUKezr9B",
        "colab_type": "code",
        "colab": {}
      },
      "source": [
        ""
      ],
      "execution_count": 0,
      "outputs": []
    }
  ]
}